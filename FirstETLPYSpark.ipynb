{
  "nbformat": 4,
  "nbformat_minor": 0,
  "metadata": {
    "colab": {
      "provenance": [],
      "mount_file_id": "1D_hTl1Ko-azcM-zVilC0MnC4wWC9ha33",
      "authorship_tag": "ABX9TyPdnUB7vVm7yrVQMnLj582n",
      "include_colab_link": true
    },
    "kernelspec": {
      "name": "python3",
      "display_name": "Python 3"
    },
    "language_info": {
      "name": "python"
    }
  },
  "cells": [
    {
      "cell_type": "markdown",
      "metadata": {
        "id": "view-in-github",
        "colab_type": "text"
      },
      "source": [
        "<a href=\"https://colab.research.google.com/github/VictorRuizt/Android-Expert/blob/main/FirstETLPYSpark.ipynb\" target=\"_parent\"><img src=\"https://colab.research.google.com/assets/colab-badge.svg\" alt=\"Open In Colab\"/></a>"
      ]
    },
    {
      "cell_type": "code",
      "execution_count": 1,
      "metadata": {
        "colab": {
          "base_uri": "https://localhost:8080/"
        },
        "id": "NUkB4urdj5dp",
        "outputId": "0e26cca4-a333-408f-8cb3-12cbb7c95580"
      },
      "outputs": [
        {
          "output_type": "stream",
          "name": "stdout",
          "text": [
            "Collecting pyspark\n",
            "  Downloading pyspark-3.5.2.tar.gz (317.3 MB)\n",
            "\u001b[2K     \u001b[90m━━━━━━━━━━━━━━━━━━━━━━━━━━━━━━━━━━━━━━━━\u001b[0m \u001b[32m317.3/317.3 MB\u001b[0m \u001b[31m4.9 MB/s\u001b[0m eta \u001b[36m0:00:00\u001b[0m\n",
            "\u001b[?25h  Preparing metadata (setup.py) ... \u001b[?25l\u001b[?25hdone\n",
            "Requirement already satisfied: py4j==0.10.9.7 in /usr/local/lib/python3.10/dist-packages (from pyspark) (0.10.9.7)\n",
            "Building wheels for collected packages: pyspark\n",
            "  Building wheel for pyspark (setup.py) ... \u001b[?25l\u001b[?25hdone\n",
            "  Created wheel for pyspark: filename=pyspark-3.5.2-py2.py3-none-any.whl size=317812365 sha256=5cb1d9aeab7772343433d6981e64b805890e167ac8cd799f29ee088a362f14a6\n",
            "  Stored in directory: /root/.cache/pip/wheels/34/34/bd/03944534c44b677cd5859f248090daa9fb27b3c8f8e5f49574\n",
            "Successfully built pyspark\n",
            "Installing collected packages: pyspark\n",
            "Successfully installed pyspark-3.5.2\n"
          ]
        }
      ],
      "source": [
        "pip install pyspark"
      ]
    },
    {
      "cell_type": "code",
      "source": [
        "import pyspark\n",
        "\n",
        "from pyspark.sql import SparkSession, SQLContext\n",
        "from pyspark.sql.types import IntegerType\n",
        "\n",
        "spark= SparkSession.builder.appName(\"etlbasica\").getOrCreate()\n",
        "sqlContext= SQLContext(spark)"
      ],
      "metadata": {
        "colab": {
          "base_uri": "https://localhost:8080/"
        },
        "id": "KXu855i-kyR4",
        "outputId": "ea2c048c-3dfe-4703-c131-ae50ded46574"
      },
      "execution_count": 19,
      "outputs": [
        {
          "output_type": "stream",
          "name": "stderr",
          "text": [
            "/usr/local/lib/python3.10/dist-packages/pyspark/sql/context.py:113: FutureWarning: Deprecated in 3.0.0. Use SparkSession.builder.getOrCreate() instead.\n",
            "  warnings.warn(\n"
          ]
        }
      ]
    },
    {
      "cell_type": "code",
      "source": [
        "path=\"/content/drive/MyDrive/Data/\""
      ],
      "metadata": {
        "id": "4KwIn2GUmjkR"
      },
      "execution_count": 20,
      "outputs": []
    },
    {
      "cell_type": "code",
      "source": [
        "players_21= spark.read.csv(path+\"players.csv\")"
      ],
      "metadata": {
        "id": "9ldCHFDXpQ88"
      },
      "execution_count": 25,
      "outputs": []
    },
    {
      "cell_type": "code",
      "source": [
        "display(players_21)"
      ],
      "metadata": {
        "colab": {
          "base_uri": "https://localhost:8080/",
          "height": 121
        },
        "id": "6WQJeYNVps-z",
        "outputId": "164789a4-cfbd-4386-9f51-6eae13ba11a3"
      },
      "execution_count": 26,
      "outputs": [
        {
          "output_type": "display_data",
          "data": {
            "text/plain": [
              "DataFrame[_c0: string, _c1: string, _c2: string, _c3: string, _c4: string, _c5: string, _c6: string, _c7: string, _c8: string, _c9: string, _c10: string, _c11: string, _c12: string, _c13: string, _c14: string, _c15: string, _c16: string, _c17: string, _c18: string, _c19: string, _c20: string, _c21: string, _c22: string, _c23: string, _c24: string, _c25: string, _c26: string, _c27: string, _c28: string, _c29: string, _c30: string, _c31: string, _c32: string, _c33: string, _c34: string, _c35: string, _c36: string, _c37: string, _c38: string, _c39: string, _c40: string, _c41: string, _c42: string, _c43: string, _c44: string, _c45: string, _c46: string, _c47: string, _c48: string, _c49: string, _c50: string, _c51: string, _c52: string, _c53: string, _c54: string, _c55: string]"
            ]
          },
          "metadata": {}
        }
      ]
    },
    {
      "cell_type": "code",
      "source": [
        "players_21.show()"
      ],
      "metadata": {
        "colab": {
          "base_uri": "https://localhost:8080/"
        },
        "id": "6q2fUJnwtJdR",
        "outputId": "c5edbf7f-e562-4b71-9518-9aa6bff1fef2"
      },
      "execution_count": 27,
      "outputs": [
        {
          "output_type": "stream",
          "name": "stdout",
          "text": [
            "+-------------+--------------------+-------------+----------------+----------+----------+------------------+--------------------+-----------------+--------------------+---------+--------+-----------+---------------+------------+-------------+--------------------+-----------------+-----------+--------------------+-------------------+------------------+----------+------------+-----------+------------------+------------+--------------+-----------------+---------------+----------+-------------+-------------+----------------+----------------+-----------+-------------+-----------+--------------+-----------+-----------+------------+--------------+------------------+-------------+---------------+--------------------+--------------+----------------+-------------+---------+---------------+----------------+----------------+--------------------+--------------------+\n",
            "|          _c0|                 _c1|          _c2|             _c3|       _c4|       _c5|               _c6|                 _c7|              _c8|                 _c9|     _c10|    _c11|       _c12|           _c13|        _c14|         _c15|                _c16|             _c17|       _c18|                _c19|               _c20|              _c21|      _c22|        _c23|       _c24|              _c25|        _c26|          _c27|             _c28|           _c29|      _c30|         _c31|         _c32|            _c33|            _c34|       _c35|         _c36|       _c37|          _c38|       _c39|       _c40|        _c41|          _c42|              _c43|         _c44|           _c45|                _c46|          _c47|            _c48|         _c49|     _c50|           _c51|            _c52|            _c53|                _c54|                _c55|\n",
            "+-------------+--------------------+-------------+----------------+----------+----------+------------------+--------------------+-----------------+--------------------+---------+--------+-----------+---------------+------------+-------------+--------------------+-----------------+-----------+--------------------+-------------------+------------------+----------+------------+-----------+------------------+------------+--------------+-----------------+---------------+----------+-------------+-------------+----------------+----------------+-----------+-------------+-----------+--------------+-----------+-----------+------------+--------------+------------------+-------------+---------------+--------------------+--------------+----------------+-------------+---------+---------------+----------------+----------------+--------------------+--------------------+\n",
            "|int_player_id|     str_player_name|str_positions|dt_date_of_birth|int_height|int_weight|int_overall_rating|int_potential_rating|str_best_position|int_best_overall_...|int_value|int_wage|int_team_id|str_nationality|int_crossing|int_finishing|int_heading_accuracy|int_short_passing|int_volleys|int_defensive_awa...|int_standing_tackle|int_sliding_tackle|int_diving|int_handling|int_kicking|int_gk_positioning|int_reflexes|int_aggression|int_interceptions|int_positioning|int_vision|int_penalties|int_composure|int_acceleration|int_sprint_speed|int_agility|int_reactions|int_balance|int_shot_power|int_jumping|int_stamina|int_strength|int_long_shots|str_preferred_foot|int_weak_foot|int_skill_moves|int_international...| str_work_rate|   str_body_type|int_dribbling|int_curve|int_fk_accuracy|int_long_passing|int_ball_control|str_player_specia...|           str_trait|\n",
            "|            1|Lionel Andrés Mes...|   RW, ST, CF|      1987-06-24|       170|        72|                93|                  93|               RW|                  93|103500000|  560000|        5.0|      Argentina|          85|           95|                  70|               91|         88|                  32|                 35|                24|         6|          11|         15|                14|           8|            44|               40|             93|        95|           75|           96|              91|              80|         91|           94|         95|            86|         68|         72|          69|            94|              Left|            4|              4|                   5|   Medium/ Low|          Unique|           96|       93|             94|              91|              96|['Dribbler', 'Dis...|['Finesse Shot', ...|\n",
            "|            2|Cristiano Ronaldo...|       ST, LW|      1985-02-05|       187|        83|                92|                  92|               ST|                  92| 63000000|  220000|        6.0|       Portugal|          84|           95|                  90|               82|         86|                  28|                 32|                24|         7|          11|         15|                14|          11|            63|               29|             95|        82|           84|           95|              87|              91|         87|           95|         71|            94|         95|         84|          78|            93|             Right|            4|              5|                   5|     High/ Low|          Unique|           88|       81|             76|              77|              92|['Aerial Threat',...|['Power Free-Kick...|\n",
            "|            3|           Jan Oblak|           GK|      1993-01-07|       188|        87|                91|                  93|               GK|                  91|120000000|  125000|        8.0|       Slovenia|          13|           11|                  15|               43|         13|                  27|                 12|                18|        87|          92|         78|                90|          90|            34|               19|             11|        65|           11|           68|              43|              60|         67|           88|         49|            59|         78|         41|          78|            12|             Right|            3|              1|                   3|Medium/ Medium|          Unique|           12|       13|             14|              40|              30|                NULL|['GK Long Throw',...|\n",
            "|            4|     Kevin De Bruyne|      CAM, CM|      1991-06-28|       181|        70|                91|                  91|              CAM|                  91|129000000|  370000|        2.0|        Belgium|          94|           82|                  55|               94|         82|                  68|                 65|                53|        15|          13|          5|                10|          13|            76|               66|             88|        94|           84|           91|              77|              76|         78|           91|         76|            91|         63|         89|          74|            91|             Right|            5|              4|                   4|    High/ High|          Unique|           88|       85|             83|              93|              92|['Dribbler', 'Pla...|['Injury Prone', ...|\n",
            "|            5|Neymar da Silva S...|      LW, CAM|      1992-02-05|       175|        68|                91|                  91|               LW|                  91|132000000|  270000|        7.0|         Brazil|          85|           87|                  62|               87|         87|                  35|                 30|                29|         9|           9|         15|                15|          11|            51|               36|             87|        90|           92|           93|              94|              89|         96|           91|         83|            80|         62|         81|          50|            84|             Right|            5|              5|                   5|  High/ Medium|          Unique|           95|       88|             89|              81|              95|['Speedster', 'Dr...|['Injury Prone', ...|\n",
            "|            6|  Robert Lewandowski|           ST|      1988-08-21|       184|        80|                91|                  91|               ST|                  91|111000000|  240000|        4.0|         Poland|          71|           94|                  87|               85|         89|                  35|                 42|                19|        15|           6|         12|                 8|          10|            81|               49|             94|        81|           88|           88|              77|              78|         77|           93|         82|            89|         84|         76|          86|            85|             Right|            4|              4|                   4|  High/ Medium|          Unique|           85|       79|             85|              70|              88|['Distance Shoote...|['Solid Player', ...|\n",
            "|            7|Kylian Mbappé Lottin|   ST, LW, RW|      1998-12-20|       178|        73|                90|                  95|               ST|                  91|185500000|  160000|        7.0|         France|          78|           91|                  73|               83|         83|                  34|                 34|                32|        13|           5|          7|                11|           6|            62|               38|             91|        80|           70|           84|              96|              96|         92|           92|         82|            86|         77|         86|          76|            79|             Right|            4|              5|                   3|     High/ Low|          Unique|           92|       79|             63|              70|              90|['Speedster', 'Dr...|['Finesse Shot', ...|\n",
            "|            8|Alisson Ramsés Be...|           GK|      1992-10-02|       191|        91|                90|                  91|               GK|                  90|102000000|  160000|        1.0|         Brazil|          17|           13|                  19|               45|         20|                  15|                 19|                16|        86|          88|         85|                91|          89|            27|               11|             13|        66|           23|           65|              56|              47|         40|           88|         37|            64|         52|         32|          78|            14|             Right|            3|              1|                   3|Medium/ Medium|          Unique|           27|       19|             18|              44|              30|                NULL|['GK Long Throw',...|\n",
            "|            9| Mohamed Salah Ghaly|           RW|      1992-06-15|       175|        71|                90|                  90|               RW|                  90|120500000|  250000|        1.0|          Egypt|          79|           91|                  59|               84|         79|                  38|                 43|                41|        14|          14|          9|                11|          14|            63|               55|             91|        84|           83|           90|              94|              92|         91|           92|         91|            80|         69|         85|          75|            84|              Left|            3|              4|                   3|  High/ Medium|          Unique|           90|       83|             69|              75|              89|['Speedster', 'Dr...|['Finesse Shot', ...|\n",
            "|           10|          Sadio Mané|           LW|      1992-04-10|       175|        69|                90|                  90|               LW|                  90|120500000|  250000|        1.0|        Senegal|          76|           90|                  84|               85|         75|                  42|                 42|                38|        10|          10|         15|                 7|          14|            75|               35|             92|        85|           71|           84|              95|              93|         93|           93|         86|            84|         86|         88|          70|            78|             Right|            4|              4|                   3|  High/ Medium|          Unique|           91|       76|             64|              71|              89|['Speedster', 'Dr...|['Flair', 'Speed ...|\n",
            "|           11|     Virgil van Dijk|           CB|      1991-07-08|       193|        92|                90|                  91|               CB|                  90|113000000|  210000|        1.0|    Netherlands|          53|           52|                  87|               79|         45|                  93|                 93|                86|        13|          10|         13|                11|          11|            83|               90|             47|        65|           62|           90|              72|              79|         61|           89|         53|            81|         90|         75|          92|            64|             Right|            3|              2|                   3|Medium/ Medium|          Unique|           70|       60|             70|              86|              77|['Tackling\\xa0', ...|['Solid Player', ...|\n",
            "|           12|Marc-André ter St...|           GK|      1992-04-30|       187|        85|                90|                  93|               GK|                  90|110000000|  260000|        5.0|        Germany|          18|           14|                  11|               61|         14|                  25|                 13|                10|        88|          85|         88|                88|          90|            43|               22|             11|        70|           25|           70|              38|              50|         37|           86|         43|            66|         79|         35|          78|            10|             Right|            4|              1|                   3|Medium/ Medium|          Unique|           21|       18|             12|              63|              30|                NULL|['Rushes Out Of G...|\n",
            "|           13|Carlos Henrique V...|          CDM|      1992-02-23|       185|        84|                89|                  89|              CDM|                  89| 90500000|  310000|        3.0|         Brazil|          58|           64|                  80|               84|         63|                  84|                 88|                87|        13|          14|         16|                12|          12|            91|               87|             72|        80|           66|           84|              60|              69|         61|           87|         66|            88|         87|         90|          91|            81|             Right|            3|              2|                   3|    High/ High|          Unique|           69|       63|             74|              84|              79|['Engine', 'Tackl...|['Power Free-Kick...|\n",
            "|           14|    Thibaut Courtois|           GK|      1992-05-11|       199|        96|                89|                  90|               GK|                  89| 82000000|  250000|        3.0|        Belgium|          14|           14|                  13|               33|         12|                  20|                 18|                16|        84|          89|         74|                85|          88|            23|               15|             13|        44|           27|           66|              42|              52|         61|           84|         45|            56|         68|         38|          70|            17|              Left|            3|              1|                   4|Medium/ Medium|          Unique|           13|       19|             20|              35|              23|                NULL|['GK Long Throw',...|\n",
            "|           15|        Manuel Neuer|           GK|      1986-03-27|       193|        92|                89|                  89|               GK|                  89| 17500000|  130000|        4.0|        Germany|          15|           13|                  25|               55|         11|                  17|                 10|                11|        87|          87|         91|                86|          89|            29|               30|             12|        70|           47|           70|              54|              60|         51|           86|         35|            68|         77|         43|          80|            16|             Right|            4|              1|                   5|Medium/ Medium|          Unique|           30|       14|             11|              59|              46|                NULL|['Leadership', 'G...|\n",
            "|           16|       Karim Benzema|       CF, ST|      1987-12-19|       185|        81|                89|                  89|               CF|                  89| 83500000|  350000|        3.0|         France|          75|           88|                  91|               86|         86|                  47|                 24|                18|        13|          11|          5|                 5|           7|            63|               39|             90|        87|           84|           90|              77|              72|         79|           91|         69|            84|         79|         78|          80|            79|             Right|            4|              4|                   4|   Medium/ Low|Normal (170-185)|           87|       81|             73|              73|              90|         ['Poacher']|['Leadership', 'F...|\n",
            "|           17| Sergio Ramos García|           CB|      1986-03-30|       184|        82|                89|                  89|               CB|                  89| 33500000|  300000|        3.0|          Spain|          66|           65|                  92|               82|         69|                  85|                 88|                90|        11|           8|          9|                 7|          11|            90|               88|             73|        71|           92|           88|              72|              70|         78|           92|         66|            79|         93|         81|          85|            64|             Right|            3|              3|                   4|  High/ Medium|          Unique|           65|       74|             76|              83|              83|['Aerial Threat',...|['Dives Into Tack...|\n",
            "|           18|Sergio Leonel Agü...|           ST|      1988-06-02|       173|        70|                89|                  89|               ST|                  89| 83500000|  300000|        2.0|      Argentina|          70|           94|                  78|               83|         86|                  30|                 29|                24|        13|          15|          6|                11|          14|            65|               24|             94|        83|           75|           91|              79|              78|         84|           92|         91|            89|         78|         78|          74|            84|             Right|            4|              4|                   4|  High/ Medium|          Unique|           88|       83|             73|              64|              89|['Dribbler', 'Cli...|['Injury Prone', ...|\n",
            "|           19|        N'Golo Kanté|      CDM, CM|      1991-03-29|       168|        70|                88|                  88|              CDM|                  88| 78000000|  190000|        9.0|         France|          68|           65|                  54|               85|         56|                  89|                 90|                85|        15|          12|         10|                 7|          10|            90|               91|             72|        79|           54|           85|              79|              76|         82|           91|         92|            71|         77|         96|          72|            65|             Right|            3|              2|                   3|  Medium/ High|          Unique|           79|       49|             49|              79|              80|['Tackling\\xa0', ...|                NULL|\n",
            "+-------------+--------------------+-------------+----------------+----------+----------+------------------+--------------------+-----------------+--------------------+---------+--------+-----------+---------------+------------+-------------+--------------------+-----------------+-----------+--------------------+-------------------+------------------+----------+------------+-----------+------------------+------------+--------------+-----------------+---------------+----------+-------------+-------------+----------------+----------------+-----------+-------------+-----------+--------------+-----------+-----------+------------+--------------+------------------+-------------+---------------+--------------------+--------------+----------------+-------------+---------+---------------+----------------+----------------+--------------------+--------------------+\n",
            "only showing top 20 rows\n",
            "\n"
          ]
        }
      ]
    }
  ]
}